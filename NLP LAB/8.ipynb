{
 "cells": [
  {
   "cell_type": "code",
   "execution_count": 8,
   "id": "274045c5",
   "metadata": {},
   "outputs": [
    {
     "name": "stdout",
     "output_type": "stream",
     "text": [
      "Requirement already satisfied: hmmlearn in c:\\users\\amogh\\anaconda3\\lib\\site-packages (0.3.2)\n",
      "Requirement already satisfied: scipy>=0.19 in c:\\users\\amogh\\anaconda3\\lib\\site-packages (from hmmlearn) (1.10.0)\n",
      "Requirement already satisfied: numpy>=1.10 in c:\\users\\amogh\\anaconda3\\lib\\site-packages (from hmmlearn) (1.23.5)\n",
      "Requirement already satisfied: scikit-learn!=0.22.0,>=0.16 in c:\\users\\amogh\\anaconda3\\lib\\site-packages (from hmmlearn) (1.5.0)\n",
      "Requirement already satisfied: threadpoolctl>=3.1.0 in c:\\users\\amogh\\anaconda3\\lib\\site-packages (from scikit-learn!=0.22.0,>=0.16->hmmlearn) (3.5.0)\n",
      "Requirement already satisfied: joblib>=1.2.0 in c:\\users\\amogh\\anaconda3\\lib\\site-packages (from scikit-learn!=0.22.0,>=0.16->hmmlearn) (1.4.2)\n",
      "Note: you may need to restart the kernel to use updated packages.\n"
     ]
    }
   ],
   "source": [
    "pip install hmmlearn "
   ]
  },
  {
   "cell_type": "code",
   "execution_count": 9,
   "id": "2e8fe0b3",
   "metadata": {},
   "outputs": [
    {
     "name": "stdout",
     "output_type": "stream",
     "text": [
      "Requirement already satisfied: sklearn-crfsuite in c:\\users\\amogh\\anaconda3\\lib\\site-packages (0.5.0)\n",
      "Requirement already satisfied: tqdm>=2.0 in c:\\users\\amogh\\anaconda3\\lib\\site-packages (from sklearn-crfsuite) (4.64.1)\n",
      "Requirement already satisfied: python-crfsuite>=0.9.7 in c:\\users\\amogh\\anaconda3\\lib\\site-packages (from sklearn-crfsuite) (0.9.10)\n",
      "Requirement already satisfied: tabulate>=0.4.2 in c:\\users\\amogh\\anaconda3\\lib\\site-packages (from sklearn-crfsuite) (0.8.10)\n",
      "Requirement already satisfied: scikit-learn>=0.24.0 in c:\\users\\amogh\\anaconda3\\lib\\site-packages (from sklearn-crfsuite) (1.5.0)\n",
      "Requirement already satisfied: numpy>=1.19.5 in c:\\users\\amogh\\anaconda3\\lib\\site-packages (from scikit-learn>=0.24.0->sklearn-crfsuite) (1.23.5)\n",
      "Requirement already satisfied: threadpoolctl>=3.1.0 in c:\\users\\amogh\\anaconda3\\lib\\site-packages (from scikit-learn>=0.24.0->sklearn-crfsuite) (3.5.0)\n",
      "Requirement already satisfied: scipy>=1.6.0 in c:\\users\\amogh\\anaconda3\\lib\\site-packages (from scikit-learn>=0.24.0->sklearn-crfsuite) (1.10.0)\n",
      "Requirement already satisfied: joblib>=1.2.0 in c:\\users\\amogh\\anaconda3\\lib\\site-packages (from scikit-learn>=0.24.0->sklearn-crfsuite) (1.4.2)\n",
      "Requirement already satisfied: colorama in c:\\users\\amogh\\anaconda3\\lib\\site-packages (from tqdm>=2.0->sklearn-crfsuite) (0.4.6)\n",
      "Note: you may need to restart the kernel to use updated packages.\n"
     ]
    }
   ],
   "source": [
    "pip install sklearn-crfsuite"
   ]
  },
  {
   "cell_type": "code",
   "execution_count": 10,
   "id": "90f4a055",
   "metadata": {},
   "outputs": [
    {
     "name": "stderr",
     "output_type": "stream",
     "text": [
      "MultinomialHMM has undergone major changes. The previous version was implementing a CategoricalHMM (a special case of MultinomialHMM). This new implementation follows the standard definition for a Multinomial distribution (e.g. as in https://en.wikipedia.org/wiki/Multinomial_distribution). See these issues for details:\n",
      "https://github.com/hmmlearn/hmmlearn/issues/335\n",
      "https://github.com/hmmlearn/hmmlearn/issues/340\n"
     ]
    },
    {
     "ename": "TypeError",
     "evalue": "_AbstractHMM.fit() takes from 2 to 3 positional arguments but 4 were given",
     "output_type": "error",
     "traceback": [
      "\u001b[1;31m---------------------------------------------------------------------------\u001b[0m",
      "\u001b[1;31mTypeError\u001b[0m                                 Traceback (most recent call last)",
      "Cell \u001b[1;32mIn[10], line 17\u001b[0m\n\u001b[0;32m     15\u001b[0m \u001b[38;5;66;03m# Hidden Markov Model (HMM)\u001b[39;00m\n\u001b[0;32m     16\u001b[0m hmm_model \u001b[38;5;241m=\u001b[39m hmm\u001b[38;5;241m.\u001b[39mMultinomialHMM(n_components\u001b[38;5;241m=\u001b[39m\u001b[38;5;241m3\u001b[39m) \u001b[38;5;66;03m# Number of states\u001b[39;00m\n\u001b[1;32m---> 17\u001b[0m \u001b[43mhmm_model\u001b[49m\u001b[38;5;241;43m.\u001b[39;49m\u001b[43mfit\u001b[49m\u001b[43m(\u001b[49m\u001b[43mnp\u001b[49m\u001b[38;5;241;43m.\u001b[39;49m\u001b[43mconcatenate\u001b[49m\u001b[43m(\u001b[49m\u001b[43mX_train\u001b[49m\u001b[43m)\u001b[49m\u001b[43m,\u001b[49m\u001b[43m \u001b[49m\u001b[43m[\u001b[49m\u001b[38;5;28;43mlen\u001b[39;49m\u001b[43m(\u001b[49m\u001b[43mseq\u001b[49m\u001b[43m)\u001b[49m\u001b[43m \u001b[49m\u001b[38;5;28;43;01mfor\u001b[39;49;00m\u001b[43m \u001b[49m\u001b[43mseq\u001b[49m\u001b[43m \u001b[49m\u001b[38;5;129;43;01min\u001b[39;49;00m\u001b[43m \u001b[49m\u001b[43mX_train\u001b[49m\u001b[43m]\u001b[49m\u001b[43m,\u001b[49m\u001b[43m \u001b[49m\u001b[43m[\u001b[49m\u001b[43mitem\u001b[49m\u001b[43m \u001b[49m\u001b[38;5;28;43;01mfor\u001b[39;49;00m\u001b[43m \u001b[49m\u001b[43msublist\u001b[49m\u001b[43m \u001b[49m\u001b[38;5;129;43;01min\u001b[39;49;00m\u001b[43m \u001b[49m\u001b[43my_train\u001b[49m\u001b[43m \u001b[49m\u001b[38;5;28;43;01mfor\u001b[39;49;00m\u001b[43m \u001b[49m\u001b[43mitem\u001b[49m\u001b[43m \u001b[49m\u001b[38;5;129;43;01min\u001b[39;49;00m\u001b[43m \u001b[49m\u001b[43msublist\u001b[49m\u001b[43m]\u001b[49m\u001b[43m)\u001b[49m\n\u001b[0;32m     18\u001b[0m \u001b[38;5;66;03m# Conditional Random Fields (CRF)\u001b[39;00m\n\u001b[0;32m     19\u001b[0m crf_model \u001b[38;5;241m=\u001b[39m CRF()\n",
      "\u001b[1;31mTypeError\u001b[0m: _AbstractHMM.fit() takes from 2 to 3 positional arguments but 4 were given"
     ]
    }
   ],
   "source": [
    "import numpy as np\n",
    "from hmmlearn import hmm\n",
    "from sklearn_crfsuite import CRF\n",
    "from sklearn.model_selection import train_test_split\n",
    "from sklearn.metrics import classification_report\n",
    "# Toy dataset for sequence tagging\n",
    "X = [['walk', 'in', 'the', 'park'],\n",
    "    ['eat', 'apple'],\n",
    "    ['eat', 'apple', 'in', 'the', 'morning']]\n",
    "y = [['V', 'P', 'D', 'N'],\n",
    "    ['V', 'N'],\n",
    "    ['V', 'N', 'P', 'D', 'N']]\n",
    "# Split data into train and test sets\n",
    "X_train, X_test, y_train, y_test = train_test_split(X, y, test_size=0.2, random_state=42)\n",
    "# Hidden Markov Model (HMM)\n",
    "hmm_model = hmm.MultinomialHMM(n_components=3) # Number of states\n",
    "hmm_model.fit(np.concatenate(X_train), [len(seq) for seq in X_train], [item for sublist in y_train for item in sublist])\n",
    "# Conditional Random Fields (CRF)\n",
    "crf_model = CRF()\n",
    "crf_model.fit(X_train, y_train)\n",
    "# Evaluation\n",
    "print(\"HMM Results:\")\n",
    "hmm_pred = hmm_model.predict(np.concatenate(X_test), [len(seq) for seq in X_test])\n",
    "print(classification_report([item for sublist in y_test for item in sublist], [item for sublist in hmm_pred for item in sublist]))\n",
    "print(\"\\nCRF Results:\")\n",
    "crf_pred = crf_model.predict(X_test)\n",
    "print(classification_report([item for sublist in y_test for item in sublist], [item for sublist in crf_pred for item in sublist]))"
   ]
  },
  {
   "cell_type": "code",
   "execution_count": 11,
   "id": "0568bfa0",
   "metadata": {},
   "outputs": [
    {
     "ename": "TypeError",
     "evalue": "OneHotEncoder.__init__() got an unexpected keyword argument 'sparse'",
     "output_type": "error",
     "traceback": [
      "\u001b[1;31m---------------------------------------------------------------------------\u001b[0m",
      "\u001b[1;31mTypeError\u001b[0m                                 Traceback (most recent call last)",
      "Cell \u001b[1;32mIn[11], line 28\u001b[0m\n\u001b[0;32m     25\u001b[0m y_encoded \u001b[38;5;241m=\u001b[39m y_encoder\u001b[38;5;241m.\u001b[39mfit_transform(y_flat)\n\u001b[0;32m     27\u001b[0m X_encoded \u001b[38;5;241m=\u001b[39m np\u001b[38;5;241m.\u001b[39marray(X_encoded)\u001b[38;5;241m.\u001b[39mreshape(\u001b[38;5;241m-\u001b[39m\u001b[38;5;241m1\u001b[39m, \u001b[38;5;241m1\u001b[39m)  \u001b[38;5;66;03m# Reshape for one-hot encoding\u001b[39;00m\n\u001b[1;32m---> 28\u001b[0m onehot_encoder \u001b[38;5;241m=\u001b[39m \u001b[43mOneHotEncoder\u001b[49m\u001b[43m(\u001b[49m\u001b[43msparse\u001b[49m\u001b[38;5;241;43m=\u001b[39;49m\u001b[38;5;28;43;01mFalse\u001b[39;49;00m\u001b[43m)\u001b[49m\n\u001b[0;32m     29\u001b[0m X_onehot \u001b[38;5;241m=\u001b[39m onehot_encoder\u001b[38;5;241m.\u001b[39mfit_transform(X_encoded)\n\u001b[0;32m     31\u001b[0m \u001b[38;5;66;03m# Prepare the sequences and lengths\u001b[39;00m\n",
      "\u001b[1;31mTypeError\u001b[0m: OneHotEncoder.__init__() got an unexpected keyword argument 'sparse'"
     ]
    }
   ],
   "source": [
    "import numpy as np\n",
    "from hmmlearn import hmm\n",
    "from sklearn_crfsuite import CRF\n",
    "from sklearn.model_selection import train_test_split\n",
    "from sklearn.metrics import classification_report\n",
    "from sklearn.preprocessing import LabelEncoder\n",
    "from sklearn.preprocessing import OneHotEncoder\n",
    "\n",
    "# Toy dataset for sequence tagging\n",
    "X = [['walk', 'in', 'the', 'park'],\n",
    "    ['eat', 'apple'],\n",
    "    ['eat', 'apple', 'in', 'the', 'morning']]\n",
    "y = [['V', 'P', 'D', 'N'],\n",
    "    ['V', 'N'],\n",
    "    ['V', 'N', 'P', 'D', 'N']]\n",
    "\n",
    "# Encode the data\n",
    "X_flat = [word for seq in X for word in seq]\n",
    "y_flat = [tag for seq in y for tag in seq]\n",
    "\n",
    "X_encoder = LabelEncoder()\n",
    "y_encoder = LabelEncoder()\n",
    "\n",
    "X_encoded = X_encoder.fit_transform(X_flat)\n",
    "y_encoded = y_encoder.fit_transform(y_flat)\n",
    "\n",
    "X_encoded = np.array(X_encoded).reshape(-1, 1)  # Reshape for one-hot encoding\n",
    "onehot_encoder = OneHotEncoder(sparse=False)\n",
    "X_onehot = onehot_encoder.fit_transform(X_encoded)\n",
    "\n",
    "# Prepare the sequences and lengths\n",
    "X_train, X_test, y_train, y_test = train_test_split(X_onehot, y_encoded, test_size=0.2, random_state=42)\n",
    "\n",
    "def sequence_length(sequences):\n",
    "    return [len(seq) for seq in sequences]\n",
    "\n",
    "# Prepare training sequences and lengths\n",
    "X_train_sequences = [X_onehot[i:i + len(seq)] for i, seq in enumerate(X)]\n",
    "y_train_sequences = [y_encoded[i:i + len(seq)] for i, seq in enumerate(y)]\n",
    "\n",
    "# Hidden Markov Model (HMM)\n",
    "hmm_model = hmm.MultinomialHMM(n_components=3)\n",
    "X_train_hmm = np.concatenate(X_train_sequences)\n",
    "y_train_hmm = np.concatenate(y_train_sequences)\n",
    "hmm_model.fit(X_train_hmm, lengths=sequence_length(X_train_sequences))\n",
    "\n",
    "# Conditional Random Fields (CRF)\n",
    "crf_model = CRF()\n",
    "crf_model.fit(X_train, y_train)\n",
    "\n",
    "# Evaluation\n",
    "print(\"HMM Results:\")\n",
    "hmm_pred = hmm_model.predict(np.concatenate([X_onehot[i:i + len(seq)] for i, seq in enumerate(X_test)]))\n",
    "print(classification_report([item for sublist in y_test for item in sublist], [item for sublist in hmm_pred for item in sublist]))\n",
    "\n",
    "print(\"\\nCRF Results:\")\n",
    "crf_pred = crf_model.predict(X_test)\n",
    "print(classification_report([item for sublist in y_test for item in sublist], [item for sublist in crf_pred for item in sublist]))\n"
   ]
  },
  {
   "cell_type": "code",
   "execution_count": 12,
   "id": "7f03da54",
   "metadata": {},
   "outputs": [
    {
     "name": "stdout",
     "output_type": "stream",
     "text": [
      "Requirement already satisfied: scikit-learn in c:\\users\\amogh\\anaconda3\\lib\\site-packages (1.5.0)\n",
      "Collecting scikit-learn\n",
      "  Downloading scikit_learn-1.5.1-cp310-cp310-win_amd64.whl (11.0 MB)\n",
      "     --------------------------------------- 11.0/11.0 MB 20.5 MB/s eta 0:00:00\n",
      "Requirement already satisfied: joblib>=1.2.0 in c:\\users\\amogh\\anaconda3\\lib\\site-packages (from scikit-learn) (1.4.2)\n",
      "Requirement already satisfied: scipy>=1.6.0 in c:\\users\\amogh\\anaconda3\\lib\\site-packages (from scikit-learn) (1.10.0)\n",
      "Requirement already satisfied: numpy>=1.19.5 in c:\\users\\amogh\\anaconda3\\lib\\site-packages (from scikit-learn) (1.23.5)\n",
      "Requirement already satisfied: threadpoolctl>=3.1.0 in c:\\users\\amogh\\anaconda3\\lib\\site-packages (from scikit-learn) (3.5.0)\n",
      "Installing collected packages: scikit-learn\n",
      "  Attempting uninstall: scikit-learn\n",
      "    Found existing installation: scikit-learn 1.5.0\n",
      "    Uninstalling scikit-learn-1.5.0:\n",
      "      Successfully uninstalled scikit-learn-1.5.0\n",
      "Note: you may need to restart the kernel to use updated packages.\n"
     ]
    },
    {
     "name": "stderr",
     "output_type": "stream",
     "text": [
      "ERROR: Could not install packages due to an OSError: [WinError 5] Access is denied: 'C:\\\\Users\\\\amogh\\\\anaconda3\\\\Lib\\\\site-packages\\\\~klearn\\\\.libs\\\\msvcp140.dll'\n",
      "Consider using the `--user` option or check the permissions.\n",
      "\n"
     ]
    }
   ],
   "source": [
    "pip install --upgrade scikit-learn"
   ]
  },
  {
   "cell_type": "code",
   "execution_count": 13,
   "id": "945ede9b",
   "metadata": {},
   "outputs": [
    {
     "name": "stderr",
     "output_type": "stream",
     "text": [
      "MultinomialHMM has undergone major changes. The previous version was implementing a CategoricalHMM (a special case of MultinomialHMM). This new implementation follows the standard definition for a Multinomial distribution (e.g. as in https://en.wikipedia.org/wiki/Multinomial_distribution). See these issues for details:\n",
      "https://github.com/hmmlearn/hmmlearn/issues/335\n",
      "https://github.com/hmmlearn/hmmlearn/issues/340\n"
     ]
    },
    {
     "ename": "ValueError",
     "evalue": "Symbol counts should be nonnegative integers",
     "output_type": "error",
     "traceback": [
      "\u001b[1;31m---------------------------------------------------------------------------\u001b[0m",
      "\u001b[1;31mValueError\u001b[0m                                Traceback (most recent call last)",
      "Cell \u001b[1;32mIn[13], line 44\u001b[0m\n\u001b[0;32m     42\u001b[0m X_train_hmm \u001b[38;5;241m=\u001b[39m np\u001b[38;5;241m.\u001b[39mconcatenate(X_train_sequences)\n\u001b[0;32m     43\u001b[0m y_train_hmm \u001b[38;5;241m=\u001b[39m np\u001b[38;5;241m.\u001b[39mconcatenate(y_train_sequences)\n\u001b[1;32m---> 44\u001b[0m \u001b[43mhmm_model\u001b[49m\u001b[38;5;241;43m.\u001b[39;49m\u001b[43mfit\u001b[49m\u001b[43m(\u001b[49m\u001b[43mX_train_hmm\u001b[49m\u001b[43m,\u001b[49m\u001b[43m \u001b[49m\u001b[43mlengths\u001b[49m\u001b[38;5;241;43m=\u001b[39;49m\u001b[43msequence_length\u001b[49m\u001b[43m(\u001b[49m\u001b[43mX_train_sequences\u001b[49m\u001b[43m)\u001b[49m\u001b[43m)\u001b[49m\n\u001b[0;32m     46\u001b[0m \u001b[38;5;66;03m# Conditional Random Fields (CRF)\u001b[39;00m\n\u001b[0;32m     47\u001b[0m crf_model \u001b[38;5;241m=\u001b[39m CRF()\n",
      "File \u001b[1;32m~\\anaconda3\\lib\\site-packages\\hmmlearn\\base.py:480\u001b[0m, in \u001b[0;36m_AbstractHMM.fit\u001b[1;34m(self, X, lengths)\u001b[0m\n\u001b[0;32m    477\u001b[0m \u001b[38;5;28;01mif\u001b[39;00m lengths \u001b[38;5;129;01mis\u001b[39;00m \u001b[38;5;28;01mNone\u001b[39;00m:\n\u001b[0;32m    478\u001b[0m     lengths \u001b[38;5;241m=\u001b[39m np\u001b[38;5;241m.\u001b[39masarray([X\u001b[38;5;241m.\u001b[39mshape[\u001b[38;5;241m0\u001b[39m]])\n\u001b[1;32m--> 480\u001b[0m \u001b[38;5;28;43mself\u001b[39;49m\u001b[38;5;241;43m.\u001b[39;49m\u001b[43m_init\u001b[49m\u001b[43m(\u001b[49m\u001b[43mX\u001b[49m\u001b[43m,\u001b[49m\u001b[43m \u001b[49m\u001b[43mlengths\u001b[49m\u001b[43m)\u001b[49m\n\u001b[0;32m    481\u001b[0m \u001b[38;5;28mself\u001b[39m\u001b[38;5;241m.\u001b[39m_check()\n\u001b[0;32m    482\u001b[0m \u001b[38;5;28mself\u001b[39m\u001b[38;5;241m.\u001b[39mmonitor_\u001b[38;5;241m.\u001b[39m_reset()\n",
      "File \u001b[1;32m~\\anaconda3\\lib\\site-packages\\hmmlearn\\hmm.py:919\u001b[0m, in \u001b[0;36mMultinomialHMM._init\u001b[1;34m(self, X, lengths)\u001b[0m\n\u001b[0;32m    918\u001b[0m \u001b[38;5;28;01mdef\u001b[39;00m \u001b[38;5;21m_init\u001b[39m(\u001b[38;5;28mself\u001b[39m, X, lengths\u001b[38;5;241m=\u001b[39m\u001b[38;5;28;01mNone\u001b[39;00m):\n\u001b[1;32m--> 919\u001b[0m     \u001b[38;5;28;43msuper\u001b[39;49m\u001b[43m(\u001b[49m\u001b[43m)\u001b[49m\u001b[38;5;241;43m.\u001b[39;49m\u001b[43m_init\u001b[49m\u001b[43m(\u001b[49m\u001b[43mX\u001b[49m\u001b[43m,\u001b[49m\u001b[43m \u001b[49m\u001b[43mlengths\u001b[49m\u001b[38;5;241;43m=\u001b[39;49m\u001b[38;5;28;43;01mNone\u001b[39;49;00m\u001b[43m)\u001b[49m\n\u001b[0;32m    920\u001b[0m     \u001b[38;5;28mself\u001b[39m\u001b[38;5;241m.\u001b[39mrandom_state \u001b[38;5;241m=\u001b[39m check_random_state(\u001b[38;5;28mself\u001b[39m\u001b[38;5;241m.\u001b[39mrandom_state)\n\u001b[0;32m    921\u001b[0m     \u001b[38;5;28;01mif\u001b[39;00m \u001b[38;5;124m'\u001b[39m\u001b[38;5;124me\u001b[39m\u001b[38;5;124m'\u001b[39m \u001b[38;5;129;01min\u001b[39;00m \u001b[38;5;28mself\u001b[39m\u001b[38;5;241m.\u001b[39minit_params:\n",
      "File \u001b[1;32m~\\anaconda3\\lib\\site-packages\\hmmlearn\\base.py:928\u001b[0m, in \u001b[0;36mBaseHMM._init\u001b[1;34m(self, X, lengths)\u001b[0m\n\u001b[0;32m    919\u001b[0m \u001b[38;5;28;01mdef\u001b[39;00m \u001b[38;5;21m_init\u001b[39m(\u001b[38;5;28mself\u001b[39m, X, lengths\u001b[38;5;241m=\u001b[39m\u001b[38;5;28;01mNone\u001b[39;00m):\n\u001b[0;32m    920\u001b[0m \u001b[38;5;250m    \u001b[39m\u001b[38;5;124;03m\"\"\"\u001b[39;00m\n\u001b[0;32m    921\u001b[0m \u001b[38;5;124;03m    Initialize model parameters prior to fitting.\u001b[39;00m\n\u001b[0;32m    922\u001b[0m \n\u001b[1;32m   (...)\u001b[0m\n\u001b[0;32m    926\u001b[0m \u001b[38;5;124;03m        Feature matrix of individual samples.\u001b[39;00m\n\u001b[0;32m    927\u001b[0m \u001b[38;5;124;03m    \"\"\"\u001b[39;00m\n\u001b[1;32m--> 928\u001b[0m     \u001b[38;5;28;43mself\u001b[39;49m\u001b[38;5;241;43m.\u001b[39;49m\u001b[43m_check_and_set_n_features\u001b[49m\u001b[43m(\u001b[49m\u001b[43mX\u001b[49m\u001b[43m)\u001b[49m\n\u001b[0;32m    929\u001b[0m     init \u001b[38;5;241m=\u001b[39m \u001b[38;5;241m1.\u001b[39m \u001b[38;5;241m/\u001b[39m \u001b[38;5;28mself\u001b[39m\u001b[38;5;241m.\u001b[39mn_components\n\u001b[0;32m    930\u001b[0m     random_state \u001b[38;5;241m=\u001b[39m check_random_state(\u001b[38;5;28mself\u001b[39m\u001b[38;5;241m.\u001b[39mrandom_state)\n",
      "File \u001b[1;32m~\\anaconda3\\lib\\site-packages\\hmmlearn\\_emissions.py:319\u001b[0m, in \u001b[0;36mBaseMultinomialHMM._check_and_set_n_features\u001b[1;34m(self, X)\u001b[0m\n\u001b[0;32m    317\u001b[0m \u001b[38;5;28msuper\u001b[39m()\u001b[38;5;241m.\u001b[39m_check_and_set_n_features(X)\n\u001b[0;32m    318\u001b[0m \u001b[38;5;28;01mif\u001b[39;00m \u001b[38;5;129;01mnot\u001b[39;00m np\u001b[38;5;241m.\u001b[39missubdtype(X\u001b[38;5;241m.\u001b[39mdtype, np\u001b[38;5;241m.\u001b[39minteger) \u001b[38;5;129;01mor\u001b[39;00m X\u001b[38;5;241m.\u001b[39mmin() \u001b[38;5;241m<\u001b[39m \u001b[38;5;241m0\u001b[39m:\n\u001b[1;32m--> 319\u001b[0m     \u001b[38;5;28;01mraise\u001b[39;00m \u001b[38;5;167;01mValueError\u001b[39;00m(\u001b[38;5;124m\"\u001b[39m\u001b[38;5;124mSymbol counts should be nonnegative integers\u001b[39m\u001b[38;5;124m\"\u001b[39m)\n\u001b[0;32m    320\u001b[0m \u001b[38;5;28;01mif\u001b[39;00m \u001b[38;5;28mself\u001b[39m\u001b[38;5;241m.\u001b[39mn_trials \u001b[38;5;129;01mis\u001b[39;00m \u001b[38;5;28;01mNone\u001b[39;00m:\n\u001b[0;32m    321\u001b[0m     \u001b[38;5;28mself\u001b[39m\u001b[38;5;241m.\u001b[39mn_trials \u001b[38;5;241m=\u001b[39m X\u001b[38;5;241m.\u001b[39msum(axis\u001b[38;5;241m=\u001b[39m\u001b[38;5;241m1\u001b[39m)\n",
      "\u001b[1;31mValueError\u001b[0m: Symbol counts should be nonnegative integers"
     ]
    }
   ],
   "source": [
    "import numpy as np\n",
    "from hmmlearn import hmm\n",
    "from sklearn_crfsuite import CRF\n",
    "from sklearn.model_selection import train_test_split\n",
    "from sklearn.metrics import classification_report\n",
    "from sklearn.preprocessing import LabelEncoder, OneHotEncoder\n",
    "\n",
    "# Toy dataset for sequence tagging\n",
    "X = [['walk', 'in', 'the', 'park'],\n",
    "    ['eat', 'apple'],\n",
    "    ['eat', 'apple', 'in', 'the', 'morning']]\n",
    "y = [['V', 'P', 'D', 'N'],\n",
    "    ['V', 'N'],\n",
    "    ['V', 'N', 'P', 'D', 'N']]\n",
    "\n",
    "# Encode the data\n",
    "X_flat = [word for seq in X for word in seq]\n",
    "y_flat = [tag for seq in y for tag in seq]\n",
    "\n",
    "X_encoder = LabelEncoder()\n",
    "y_encoder = LabelEncoder()\n",
    "\n",
    "X_encoded = X_encoder.fit_transform(X_flat)\n",
    "y_encoded = y_encoder.fit_transform(y_flat)\n",
    "\n",
    "X_encoded = np.array(X_encoded).reshape(-1, 1)  # Reshape for one-hot encoding\n",
    "onehot_encoder = OneHotEncoder(sparse_output=False)\n",
    "X_onehot = onehot_encoder.fit_transform(X_encoded)\n",
    "\n",
    "# Prepare the sequences and lengths\n",
    "X_train, X_test, y_train, y_test = train_test_split(X_onehot, y_encoded, test_size=0.2, random_state=42)\n",
    "\n",
    "def sequence_length(sequences):\n",
    "    return [len(seq) for seq in sequences]\n",
    "\n",
    "# Prepare training sequences and lengths\n",
    "X_train_sequences = [X_onehot[i:i + len(seq)] for i, seq in enumerate(X)]\n",
    "y_train_sequences = [y_encoded[i:i + len(seq)] for i, seq in enumerate(y)]\n",
    "\n",
    "# Hidden Markov Model (HMM)\n",
    "hmm_model = hmm.MultinomialHMM(n_components=3)\n",
    "X_train_hmm = np.concatenate(X_train_sequences)\n",
    "y_train_hmm = np.concatenate(y_train_sequences)\n",
    "hmm_model.fit(X_train_hmm, lengths=sequence_length(X_train_sequences))\n",
    "\n",
    "# Conditional Random Fields (CRF)\n",
    "crf_model = CRF()\n",
    "crf_model.fit(X_train, y_train)\n",
    "\n",
    "# Evaluation\n",
    "print(\"HMM Results:\")\n",
    "hmm_pred = hmm_model.predict(np.concatenate([X_onehot[i:i + len(seq)] for i, seq in enumerate(X_test)]))\n",
    "print(classification_report([item for sublist in y_test for item in sublist], [item for sublist in hmm_pred for item in sublist]))\n",
    "\n",
    "print(\"\\nCRF Results:\")\n",
    "crf_pred = crf_model.predict(X_test)\n",
    "print(classification_report([item for sublist in y_test for item in sublist], [item for sublist in crf_pred for item in sublist]))\n"
   ]
  },
  {
   "cell_type": "code",
   "execution_count": null,
   "id": "88f04e09",
   "metadata": {},
   "outputs": [],
   "source": []
  }
 ],
 "metadata": {
  "kernelspec": {
   "display_name": "Python 3 (ipykernel)",
   "language": "python",
   "name": "python3"
  },
  "language_info": {
   "codemirror_mode": {
    "name": "ipython",
    "version": 3
   },
   "file_extension": ".py",
   "mimetype": "text/x-python",
   "name": "python",
   "nbconvert_exporter": "python",
   "pygments_lexer": "ipython3",
   "version": "3.10.9"
  }
 },
 "nbformat": 4,
 "nbformat_minor": 5
}
