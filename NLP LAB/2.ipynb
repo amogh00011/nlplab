{
 "cells": [
  {
   "cell_type": "code",
   "execution_count": 3,
   "id": "01e6fef2",
   "metadata": {},
   "outputs": [
    {
     "name": "stdout",
     "output_type": "stream",
     "text": [
      "Accuracy: 0.7608247422680412\n",
      "\n",
      "Classification Report:\n",
      "              precision    recall  f1-score   support\n",
      "\n",
      "    negative       0.83      0.47      0.60       110\n",
      "     neutral       0.76      0.94      0.84       571\n",
      "    positive       0.74      0.52      0.61       289\n",
      "\n",
      "    accuracy                           0.76       970\n",
      "   macro avg       0.77      0.64      0.68       970\n",
      "weighted avg       0.76      0.76      0.75       970\n",
      "\n"
     ]
    }
   ],
   "source": [
    "import numpy as np\n",
    "import pandas as pd\n",
    "from sklearn.model_selection import train_test_split\n",
    "from sklearn.feature_extraction.text import CountVectorizer\n",
    "from sklearn.naive_bayes import MultinomialNB\n",
    "from sklearn.metrics import accuracy_score, classification_report\n",
    "# Load the financial dataset\n",
    "data = pd.read_csv(\"all11.csv\") # Replace \"financial_dataset.csv\" with your dataset filename\n",
    "# Preprocess the data\n",
    "# Assuming the dataset has two columns: \"text\" containing the text data and \"sentiment\" containing sentiment labels\n",
    "X = data['News Headline']\n",
    "y = data['Sentiment']\n",
    "# Split the data into training and testing sets\n",
    "X_train, X_test, y_train, y_test = train_test_split(X, y, test_size=0.2, random_state=42)\n",
    "# Vectorize the text data using N-gram model\n",
    "vectorizer = CountVectorizer(ngram_range=(1, 2)) # You can adjust the n-gram range\n",
    "X_train_vectorized = vectorizer.fit_transform(X_train)\n",
    "X_test_vectorized = vectorizer.transform(X_test)\n",
    "# Train the classifier\n",
    "classifier = MultinomialNB()\n",
    "classifier.fit(X_train_vectorized, y_train)\n",
    "# Predict sentiment on the test set\n",
    "y_pred = classifier.predict(X_test_vectorized)\n",
    "# Evaluate the model\n",
    "accuracy = accuracy_score(y_test, y_pred)\n",
    "print(\"Accuracy:\", accuracy)\n",
    "# Display classification report\n",
    "print(\"\\nClassification Report:\")\n",
    "print(classification_report(y_test, y_pred))"
   ]
  },
  {
   "cell_type": "code",
   "execution_count": null,
   "id": "9c9161b9",
   "metadata": {},
   "outputs": [],
   "source": []
  }
 ],
 "metadata": {
  "kernelspec": {
   "display_name": "Python 3 (ipykernel)",
   "language": "python",
   "name": "python3"
  },
  "language_info": {
   "codemirror_mode": {
    "name": "ipython",
    "version": 3
   },
   "file_extension": ".py",
   "mimetype": "text/x-python",
   "name": "python",
   "nbconvert_exporter": "python",
   "pygments_lexer": "ipython3",
   "version": "3.10.9"
  }
 },
 "nbformat": 4,
 "nbformat_minor": 5
}
