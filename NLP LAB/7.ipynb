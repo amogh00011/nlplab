{
 "cells": [
  {
   "cell_type": "code",
   "execution_count": 5,
   "id": "ea991799",
   "metadata": {},
   "outputs": [
    {
     "name": "stdout",
     "output_type": "stream",
     "text": [
      "Rule-based PoS tagging:\n",
      "[('John', 'NNP'), ('likes', 'VB'), ('to', 'TO'), ('play', 'VB'), ('football', 'NN'), ('with', 'TO'), ('his', 'NNP'), ('friends', 'NN'), ('.', 'NN')]\n",
      "\n",
      "Statistical PoS tagging:\n",
      "[('John', 'NNP'), ('likes', 'VBZ'), ('play', 'VB'), ('football', 'NN'), ('friends', 'NNS'), ('.', '.')]\n"
     ]
    }
   ],
   "source": [
    "import nltk\n",
    "from nltk.tokenize import word_tokenize\n",
    "from nltk.tag import pos_tag\n",
    "from nltk.corpus import stopwords\n",
    "# Sample text\n",
    "text = \"John likes to play football with his friends.\"\n",
    "# Tokenize the text\n",
    "tokens = word_tokenize(text)\n",
    "# Rule-based PoS tagging\n",
    "def rule_based_pos_tagging(tokens):\n",
    "    tagged_tokens = []\n",
    "    for token in tokens:\n",
    "        if token.lower() in [\"john\", \"he\", \"his\"]:\n",
    "            tagged_tokens.append((token, 'NNP')) # Proper noun\n",
    "        elif token.lower() in [\"likes\", \"play\"]:\n",
    "            tagged_tokens.append((token, 'VB')) # Verb\n",
    "        elif token.lower() in [\"to\", \"with\"]:\n",
    "            tagged_tokens.append((token, 'TO')) # To or preposition\n",
    "        elif token.lower() in [\"football\", \"friends\"]:\n",
    "            tagged_tokens.append((token, 'NN')) # Noun\n",
    "        else:\n",
    "            tagged_tokens.append((token, 'NN')) # Default to noun\n",
    "    return tagged_tokens\n",
    "# Statistical PoS tagging\n",
    "def statistical_pos_tagging(tokens):\n",
    "    tagged_tokens = pos_tag(tokens)\n",
    "    return tagged_tokens\n",
    "# Remove stopwords for better accuracy in statistical PoS tagging\n",
    "stop_words = set(stopwords.words('english'))\n",
    "tokens_without_stopwords = [token for token in tokens if token.lower() not in stop_words]\n",
    "# Perform PoS tagging\n",
    "rule_based_tags = rule_based_pos_tagging(tokens)\n",
    "statistical_tags = statistical_pos_tagging(tokens_without_stopwords)\n",
    "# Display the results\n",
    "print(\"Rule-based PoS tagging:\")\n",
    "print(rule_based_tags)\n",
    "print(\"\\nStatistical PoS tagging:\")\n",
    "print(statistical_tags)"
   ]
  },
  {
   "cell_type": "code",
   "execution_count": 3,
   "id": "22084de3",
   "metadata": {},
   "outputs": [
    {
     "name": "stderr",
     "output_type": "stream",
     "text": [
      "[nltk_data] Downloading package averaged_perceptron_tagger to\n",
      "[nltk_data]     C:\\Users\\amogh\\AppData\\Roaming\\nltk_data...\n",
      "[nltk_data]   Unzipping taggers\\averaged_perceptron_tagger.zip.\n"
     ]
    },
    {
     "data": {
      "text/plain": [
       "True"
      ]
     },
     "execution_count": 3,
     "metadata": {},
     "output_type": "execute_result"
    }
   ],
   "source": [
    "import nltk\n",
    "\n",
    "# Download the averaged perceptron tagger\n",
    "nltk.download('averaged_perceptron_tagger')\n",
    "\n",
    "# Now you can run your previous code without issues\n"
   ]
  },
  {
   "cell_type": "code",
   "execution_count": 4,
   "id": "d867acff",
   "metadata": {},
   "outputs": [
    {
     "name": "stderr",
     "output_type": "stream",
     "text": [
      "[nltk_data] Downloading package stopwords to\n",
      "[nltk_data]     C:\\Users\\amogh\\AppData\\Roaming\\nltk_data...\n",
      "[nltk_data]   Package stopwords is already up-to-date!\n"
     ]
    },
    {
     "data": {
      "text/plain": [
       "True"
      ]
     },
     "execution_count": 4,
     "metadata": {},
     "output_type": "execute_result"
    }
   ],
   "source": [
    "nltk.download('stopwords')"
   ]
  },
  {
   "cell_type": "code",
   "execution_count": null,
   "id": "57ec2143",
   "metadata": {},
   "outputs": [],
   "source": []
  }
 ],
 "metadata": {
  "kernelspec": {
   "display_name": "Python 3 (ipykernel)",
   "language": "python",
   "name": "python3"
  },
  "language_info": {
   "codemirror_mode": {
    "name": "ipython",
    "version": 3
   },
   "file_extension": ".py",
   "mimetype": "text/x-python",
   "name": "python",
   "nbconvert_exporter": "python",
   "pygments_lexer": "ipython3",
   "version": "3.10.9"
  }
 },
 "nbformat": 4,
 "nbformat_minor": 5
}
