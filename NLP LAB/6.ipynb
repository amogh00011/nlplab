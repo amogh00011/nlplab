{
 "cells": [
  {
   "cell_type": "code",
   "execution_count": 4,
   "id": "b0fb4c58",
   "metadata": {
    "scrolled": true
   },
   "outputs": [
    {
     "name": "stdout",
     "output_type": "stream",
     "text": [
      "Cluster 1:\n",
      "['ibm', 'com', 'austin', 'disclaimer', 'edu']\n",
      "Cluster 2:\n",
      "['god', 'jesus', 'christian', 'bible', 'christ']\n",
      "Cluster 3:\n",
      "['ca', 'canada', 'bnr', 'university', 'organization']\n",
      "Cluster 4:\n",
      "['edu', 'subject', 'lines', 'organization', 'com']\n",
      "Cluster 5:\n",
      "['windows', 'dos', 'file', 'edu', 'ms']\n",
      "Cluster 6:\n",
      "['netcom', 'key', 'clipper', 'com', 'encryption']\n",
      "Cluster 7:\n",
      "['uk', 'ac', 'university', 'writes', 'lines']\n",
      "Cluster 8:\n",
      "['virginia', 'edu', 'university', 'organization', 'writes']\n",
      "Cluster 9:\n",
      "['sale', '00', 'edu', 'offer', 'condition']\n",
      "Cluster 10:\n",
      "['edu', 'university', 'host', 'nntp', 'posting']\n",
      "Cluster 11:\n",
      "['people', 'edu', 'government', 'don', 'israel']\n",
      "Cluster 12:\n",
      "['sgi', 'jon', 'com', 'keith', 'caltech']\n",
      "Cluster 13:\n",
      "['access', 'digex', 'pat', 'net', 'communications']\n",
      "Cluster 14:\n",
      "['cs', 'edu', 'pitt', 'science', 'article']\n",
      "Cluster 15:\n",
      "['drive', 'scsi', 'ide', 'drives', 'controller']\n",
      "Cluster 16:\n",
      "['game', 'team', 'games', 'hockey', 'edu']\n",
      "Cluster 17:\n",
      "['uiuc', 'cso', 'ohio', 'edu', 'state']\n",
      "Cluster 18:\n",
      "['com', 'writes', 'hp', 'article', 'subject']\n",
      "Cluster 19:\n",
      "['card', 'video', 'monitor', 'edu', 'drivers']\n",
      "Cluster 20:\n",
      "['nasa', 'gov', 'space', 'edu', 'center']\n"
     ]
    }
   ],
   "source": [
    "import numpy as np\n",
    "from sklearn.feature_extraction.text import TfidfVectorizer\n",
    "from sklearn.cluster import KMeans\n",
    "from sklearn.datasets import fetch_20newsgroups\n",
    "\n",
    "# Load the 20 newsgroups dataset (a sample dataset included in scikit-learn)\n",
    "newsgroups = fetch_20newsgroups(subset='all')\n",
    "\n",
    "# Vectorize the text data using TF-IDF representation\n",
    "vectorizer = TfidfVectorizer(stop_words='english', max_features=1000)\n",
    "X = vectorizer.fit_transform(newsgroups.data)\n",
    "\n",
    "# Perform K-means clustering\n",
    "k = 20  # Number of clusters (you can adjust this)\n",
    "kmeans = KMeans(n_clusters=k, random_state=42)\n",
    "kmeans.fit(X)\n",
    "\n",
    "# Print top terms for each cluster\n",
    "terms = vectorizer.get_feature_names_out()  # Updated method\n",
    "order_centroids = kmeans.cluster_centers_.argsort()[:, ::-1]\n",
    "for i in range(k):\n",
    "    print(f\"Cluster {i + 1}:\")\n",
    "    top_terms = [terms[ind] for ind in order_centroids[i, :5]]\n",
    "    print(top_terms)"
   ]
  },
  {
   "cell_type": "code",
   "execution_count": null,
   "id": "2cac65a9",
   "metadata": {},
   "outputs": [],
   "source": []
  }
 ],
 "metadata": {
  "kernelspec": {
   "display_name": "Python 3 (ipykernel)",
   "language": "python",
   "name": "python3"
  },
  "language_info": {
   "codemirror_mode": {
    "name": "ipython",
    "version": 3
   },
   "file_extension": ".py",
   "mimetype": "text/x-python",
   "name": "python",
   "nbconvert_exporter": "python",
   "pygments_lexer": "ipython3",
   "version": "3.10.9"
  }
 },
 "nbformat": 4,
 "nbformat_minor": 5
}
